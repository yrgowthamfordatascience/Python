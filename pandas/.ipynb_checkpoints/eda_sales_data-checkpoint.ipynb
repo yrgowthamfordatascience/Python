{
 "cells": [
  {
   "cell_type": "code",
   "execution_count": 107,
   "id": "cb1f4814-3005-4ab7-8fb0-155ee4b7e0ff",
   "metadata": {},
   "outputs": [],
   "source": [
    "import pandas as pd \n",
    "import numpy as np\n",
    "import matplotlib as mp"
   ]
  },
  {
   "cell_type": "code",
   "execution_count": 108,
   "id": "8912559b-5124-45e8-bb8c-f126ef4f7491",
   "metadata": {},
   "outputs": [
    {
     "name": "stdout",
     "output_type": "stream",
     "text": [
      "/home/jovyan/Python/pandas\n"
     ]
    }
   ],
   "source": [
    "import os\n",
    "print(os.getcwd())"
   ]
  },
  {
   "cell_type": "markdown",
   "id": "cd5a6e4a-7670-48fe-907b-98921fe49c95",
   "metadata": {},
   "source": [
    "##### Merge 12 months data into single file "
   ]
  },
  {
   "cell_type": "code",
   "execution_count": 109,
   "id": "0cee0df7-8da7-43a1-8609-7d1b08094d34",
   "metadata": {},
   "outputs": [],
   "source": [
    "import glob\n",
    "directory_path='/home/jovyan/Python/data/sales_data'\n",
    "list_of_csv_files = glob.glob(directory_path + '/*.csv')\n",
    "list_of_csv_files.sort()\n",
    "\n",
    "df = pd.concat(map(pd.read_csv, list_of_csv_files,), ignore_index=True)"
   ]
  },
  {
   "cell_type": "code",
   "execution_count": 110,
   "id": "f646e4c5-3e37-4b98-88d3-993c2d9d3db0",
   "metadata": {},
   "outputs": [
    {
     "name": "stdout",
     "output_type": "stream",
     "text": [
      "(186850, 6)\n",
      "  Order ID                     Product Quantity Ordered Price Each  \\\n",
      "0   176558        USB-C Charging Cable                2      11.95   \n",
      "1      NaN                         NaN              NaN        NaN   \n",
      "2   176559  Bose SoundSport Headphones                1      99.99   \n",
      "3   176560                Google Phone                1        600   \n",
      "4   176560            Wired Headphones                1      11.99   \n",
      "5   176561            Wired Headphones                1      11.99   \n",
      "6   176562        USB-C Charging Cable                1      11.95   \n",
      "7   176563  Bose SoundSport Headphones                1      99.99   \n",
      "8   176564        USB-C Charging Cable                1      11.95   \n",
      "9   176565          Macbook Pro Laptop                1       1700   \n",
      "\n",
      "       Order Date                        Purchase Address  \n",
      "0  04/19/19 08:46            917 1st St, Dallas, TX 75001  \n",
      "1             NaN                                     NaN  \n",
      "2  04/07/19 22:30       682 Chestnut St, Boston, MA 02215  \n",
      "3  04/12/19 14:38    669 Spruce St, Los Angeles, CA 90001  \n",
      "4  04/12/19 14:38    669 Spruce St, Los Angeles, CA 90001  \n",
      "5  04/30/19 09:27       333 8th St, Los Angeles, CA 90001  \n",
      "6  04/29/19 13:03  381 Wilson St, San Francisco, CA 94016  \n",
      "7  04/02/19 07:46        668 Center St, Seattle, WA 98101  \n",
      "8  04/12/19 10:58         790 Ridge St, Atlanta, GA 30301  \n",
      "9  04/24/19 10:38  915 Willow St, San Francisco, CA 94016  \n"
     ]
    }
   ],
   "source": [
    "print(df.shape)\n",
    "print(df.head(10))"
   ]
  },
  {
   "cell_type": "markdown",
   "id": "561bfa4d-28cf-484e-8882-0615f61036e0",
   "metadata": {},
   "source": [
    "#### What was the best month for sales ? How much was earned that month ?"
   ]
  },
  {
   "cell_type": "code",
   "execution_count": 111,
   "id": "663660fb-5cee-44ef-b1c9-4fcb4482c7c5",
   "metadata": {},
   "outputs": [
    {
     "data": {
      "text/html": [
       "<div>\n",
       "<style scoped>\n",
       "    .dataframe tbody tr th:only-of-type {\n",
       "        vertical-align: middle;\n",
       "    }\n",
       "\n",
       "    .dataframe tbody tr th {\n",
       "        vertical-align: top;\n",
       "    }\n",
       "\n",
       "    .dataframe thead th {\n",
       "        text-align: right;\n",
       "    }\n",
       "</style>\n",
       "<table border=\"1\" class=\"dataframe\">\n",
       "  <thead>\n",
       "    <tr style=\"text-align: right;\">\n",
       "      <th></th>\n",
       "      <th>Order ID</th>\n",
       "      <th>Product</th>\n",
       "      <th>Quantity Ordered</th>\n",
       "      <th>Price Each</th>\n",
       "      <th>Order Date</th>\n",
       "      <th>Purchase Address</th>\n",
       "    </tr>\n",
       "  </thead>\n",
       "  <tbody>\n",
       "    <tr>\n",
       "      <th>0</th>\n",
       "      <td>176558</td>\n",
       "      <td>USB-C Charging Cable</td>\n",
       "      <td>2</td>\n",
       "      <td>11.95</td>\n",
       "      <td>04/19/19 08:46</td>\n",
       "      <td>917 1st St, Dallas, TX 75001</td>\n",
       "    </tr>\n",
       "    <tr>\n",
       "      <th>1</th>\n",
       "      <td>NaN</td>\n",
       "      <td>NaN</td>\n",
       "      <td>NaN</td>\n",
       "      <td>NaN</td>\n",
       "      <td>NaN</td>\n",
       "      <td>NaN</td>\n",
       "    </tr>\n",
       "    <tr>\n",
       "      <th>2</th>\n",
       "      <td>176559</td>\n",
       "      <td>Bose SoundSport Headphones</td>\n",
       "      <td>1</td>\n",
       "      <td>99.99</td>\n",
       "      <td>04/07/19 22:30</td>\n",
       "      <td>682 Chestnut St, Boston, MA 02215</td>\n",
       "    </tr>\n",
       "    <tr>\n",
       "      <th>3</th>\n",
       "      <td>176560</td>\n",
       "      <td>Google Phone</td>\n",
       "      <td>1</td>\n",
       "      <td>600</td>\n",
       "      <td>04/12/19 14:38</td>\n",
       "      <td>669 Spruce St, Los Angeles, CA 90001</td>\n",
       "    </tr>\n",
       "    <tr>\n",
       "      <th>4</th>\n",
       "      <td>176560</td>\n",
       "      <td>Wired Headphones</td>\n",
       "      <td>1</td>\n",
       "      <td>11.99</td>\n",
       "      <td>04/12/19 14:38</td>\n",
       "      <td>669 Spruce St, Los Angeles, CA 90001</td>\n",
       "    </tr>\n",
       "  </tbody>\n",
       "</table>\n",
       "</div>"
      ],
      "text/plain": [
       "  Order ID                     Product Quantity Ordered Price Each  \\\n",
       "0   176558        USB-C Charging Cable                2      11.95   \n",
       "1      NaN                         NaN              NaN        NaN   \n",
       "2   176559  Bose SoundSport Headphones                1      99.99   \n",
       "3   176560                Google Phone                1        600   \n",
       "4   176560            Wired Headphones                1      11.99   \n",
       "\n",
       "       Order Date                      Purchase Address  \n",
       "0  04/19/19 08:46          917 1st St, Dallas, TX 75001  \n",
       "1             NaN                                   NaN  \n",
       "2  04/07/19 22:30     682 Chestnut St, Boston, MA 02215  \n",
       "3  04/12/19 14:38  669 Spruce St, Los Angeles, CA 90001  \n",
       "4  04/12/19 14:38  669 Spruce St, Los Angeles, CA 90001  "
      ]
     },
     "execution_count": 111,
     "metadata": {},
     "output_type": "execute_result"
    }
   ],
   "source": [
    "df.head(5)"
   ]
  },
  {
   "cell_type": "code",
   "execution_count": 112,
   "id": "4b4c20a7-e623-4498-a1b8-1a86533a65c9",
   "metadata": {},
   "outputs": [
    {
     "data": {
      "text/plain": [
       "Order ID            object\n",
       "Product             object\n",
       "Quantity Ordered    object\n",
       "Price Each          object\n",
       "Order Date          object\n",
       "Purchase Address    object\n",
       "dtype: object"
      ]
     },
     "execution_count": 112,
     "metadata": {},
     "output_type": "execute_result"
    }
   ],
   "source": [
    "df.dtypes"
   ]
  },
  {
   "cell_type": "code",
   "execution_count": 113,
   "id": "deaa0566-9dcc-4193-9865-1de17541efc8",
   "metadata": {},
   "outputs": [],
   "source": [
    "#remove NA & invalid rows : \n",
    "df.dropna(how=\"any\",inplace=True)\n",
    "df=df[~(df['Order Date'].str.slice(0,2)=='Or')]"
   ]
  },
  {
   "cell_type": "code",
   "execution_count": 114,
   "id": "95870708-6d26-4cb8-8e8a-03ddcc0340ab",
   "metadata": {},
   "outputs": [],
   "source": [
    "#format and create variables : \n",
    "df['Order Date']=pd.to_datetime(df['Order Date'])\n",
    "df['Order Month']=df['Order Date'].dt.month\n",
    "df['Order Year']=df['Order Date'].dt.year"
   ]
  },
  {
   "cell_type": "code",
   "execution_count": 156,
   "id": "e3ae415c-1eb2-4bd5-b7a3-2886f27d517c",
   "metadata": {},
   "outputs": [],
   "source": [
    "df['Price Each']=df['Price Each'].astype(float)\n",
    "df['Quantity Ordered']=df['Quantity Ordered'].astype(int)\n",
    "df['Order month_year'] = pd.to_datetime(df['Order Date']).dt.to_period('M')\n"
   ]
  },
  {
   "cell_type": "code",
   "execution_count": 157,
   "id": "dfecff69-b742-430a-87fc-351a1d06e807",
   "metadata": {},
   "outputs": [],
   "source": [
    "#answer the question best month in sales :\n",
    "df['Total Price']=df['Quantity Ordered']*df['Price Each']\n",
    "df['Total Price']\n",
    "output1=df.groupby(['Order month_year'])['Total Price'].sum()"
   ]
  },
  {
   "cell_type": "code",
   "execution_count": 158,
   "id": "282de39d-6a66-4c58-9afc-2b584306a573",
   "metadata": {},
   "outputs": [
    {
     "data": {
      "text/plain": [
       "Order month_year\n",
       "2019-12    4613443.34\n",
       "2019-10    3736726.88\n",
       "2019-04    3390670.24\n",
       "2019-11    3199603.20\n",
       "2019-05    3152606.75\n",
       "2019-03    2807100.38\n",
       "2019-07    2647775.76\n",
       "2019-06    2577802.26\n",
       "2019-08    2244467.88\n",
       "2019-02    2202022.42\n",
       "2019-09    2097560.13\n",
       "2019-01    1813586.44\n",
       "2020-01       8670.29\n",
       "Freq: M, Name: Total Price, dtype: float64"
      ]
     },
     "execution_count": 158,
     "metadata": {},
     "output_type": "execute_result"
    }
   ],
   "source": [
    "output1.sort_values(ascending=False)"
   ]
  },
  {
   "cell_type": "markdown",
   "id": "eb59468a-5f00-48ce-8d36-1898811c3843",
   "metadata": {},
   "source": [
    "#### Visualize the result in bar chart "
   ]
  },
  {
   "cell_type": "code",
   "execution_count": 161,
   "id": "e13d5e35-c031-4930-b4b2-5c7abf57a987",
   "metadata": {},
   "outputs": [],
   "source": [
    "%matplotlib inline"
   ]
  },
  {
   "cell_type": "code",
   "execution_count": 164,
   "id": "71fdb943-de83-494b-9be5-4fe90e4d7aa2",
   "metadata": {},
   "outputs": [
    {
     "data": {
      "text/plain": [
       "<matplotlib.axes._subplots.AxesSubplot at 0x7fec7e3ea990>"
      ]
     },
     "execution_count": 164,
     "metadata": {},
     "output_type": "execute_result"
    },
    {
     "data": {
      "image/png": "[encoded data removed]",
      "text/plain": [
       "<Figure size 432x288 with 1 Axes>"
      ]
     },
     "metadata": {
      "needs_background": "light"
     },
     "output_type": "display_data"
    }
   ],
   "source": [
    "output1.sort_values(ascending=False).plot(kind='bar')"
   ]
  },
  {
   "cell_type": "code",
   "execution_count": null,
   "id": "bfbde5e7-64d9-496d-9e73-e816c313d2f0",
   "metadata": {},
   "outputs": [],
   "source": []
  }
 ],
 "metadata": {
  "kernelspec": {
   "display_name": "Python 3",
   "language": "python",
   "name": "python3"
  },
  "language_info": {
   "codemirror_mode": {
    "name": "ipython",
    "version": 3
   },
   "file_extension": ".py",
   "mimetype": "text/x-python",
   "name": "python",
   "nbconvert_exporter": "python",
   "pygments_lexer": "ipython3",
   "version": "3.7.8"
  }
 },
 "nbformat": 4,
 "nbformat_minor": 5
}
