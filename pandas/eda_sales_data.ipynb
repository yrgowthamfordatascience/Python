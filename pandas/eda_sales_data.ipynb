{
 "cells": [
  {
   "cell_type": "code",
   "execution_count": 107,
   "id": "cb1f4814-3005-4ab7-8fb0-155ee4b7e0ff",
   "metadata": {},
   "outputs": [],
   "source": [
    "import pandas as pd \n",
    "import numpy as np\n",
    "import matplotlib as mp"
   ]
  },
  {
   "cell_type": "code",
   "execution_count": 108,
   "id": "8912559b-5124-45e8-bb8c-f126ef4f7491",
   "metadata": {},
   "outputs": [
    {
     "name": "stdout",
     "output_type": "stream",
     "text": [
      "/home/jovyan/Python/pandas\n"
     ]
    }
   ],
   "source": [
    "import os\n",
    "print(os.getcwd())"
   ]
  },
  {
   "cell_type": "markdown",
   "id": "cd5a6e4a-7670-48fe-907b-98921fe49c95",
   "metadata": {},
   "source": [
    "##### Merge 12 months data into single file "
   ]
  },
  {
   "cell_type": "code",
   "execution_count": 109,
   "id": "0cee0df7-8da7-43a1-8609-7d1b08094d34",
   "metadata": {},
   "outputs": [],
   "source": [
    "import glob\n",
    "directory_path='/home/jovyan/Python/data/sales_data'\n",
    "list_of_csv_files = glob.glob(directory_path + '/*.csv')\n",
    "list_of_csv_files.sort()\n",
    "\n",
    "df = pd.concat(map(pd.read_csv, list_of_csv_files,), ignore_index=True)"
   ]
  },
  {
   "cell_type": "code",
   "execution_count": 110,
   "id": "f646e4c5-3e37-4b98-88d3-993c2d9d3db0",
   "metadata": {},
   "outputs": [
    {
     "name": "stdout",
     "output_type": "stream",
     "text": [
      "(186850, 6)\n",
      "  Order ID                     Product Quantity Ordered Price Each  \\\n",
      "0   176558        USB-C Charging Cable                2      11.95   \n",
      "1      NaN                         NaN              NaN        NaN   \n",
      "2   176559  Bose SoundSport Headphones                1      99.99   \n",
      "3   176560                Google Phone                1        600   \n",
      "4   176560            Wired Headphones                1      11.99   \n",
      "5   176561            Wired Headphones                1      11.99   \n",
      "6   176562        USB-C Charging Cable                1      11.95   \n",
      "7   176563  Bose SoundSport Headphones                1      99.99   \n",
      "8   176564        USB-C Charging Cable                1      11.95   \n",
      "9   176565          Macbook Pro Laptop                1       1700   \n",
      "\n",
      "       Order Date                        Purchase Address  \n",
      "0  04/19/19 08:46            917 1st St, Dallas, TX 75001  \n",
      "1             NaN                                     NaN  \n",
      "2  04/07/19 22:30       682 Chestnut St, Boston, MA 02215  \n",
      "3  04/12/19 14:38    669 Spruce St, Los Angeles, CA 90001  \n",
      "4  04/12/19 14:38    669 Spruce St, Los Angeles, CA 90001  \n",
      "5  04/30/19 09:27       333 8th St, Los Angeles, CA 90001  \n",
      "6  04/29/19 13:03  381 Wilson St, San Francisco, CA 94016  \n",
      "7  04/02/19 07:46        668 Center St, Seattle, WA 98101  \n",
      "8  04/12/19 10:58         790 Ridge St, Atlanta, GA 30301  \n",
      "9  04/24/19 10:38  915 Willow St, San Francisco, CA 94016  \n"
     ]
    }
   ],
   "source": [
    "print(df.shape)\n",
    "print(df.head(10))"
   ]
  },
  {
   "cell_type": "markdown",
   "id": "561bfa4d-28cf-484e-8882-0615f61036e0",
   "metadata": {},
   "source": [
    "## What was the best month for sales ? How much was earned that month ?"
   ]
  },
  {
   "cell_type": "code",
   "execution_count": 111,
   "id": "663660fb-5cee-44ef-b1c9-4fcb4482c7c5",
   "metadata": {},
   "outputs": [
    {
     "data": {
      "text/html": [
       "<div>\n",
       "<style scoped>\n",
       "    .dataframe tbody tr th:only-of-type {\n",
       "        vertical-align: middle;\n",
       "    }\n",
       "\n",
       "    .dataframe tbody tr th {\n",
       "        vertical-align: top;\n",
       "    }\n",
       "\n",
       "    .dataframe thead th {\n",
       "        text-align: right;\n",
       "    }\n",
       "</style>\n",
       "<table border=\"1\" class=\"dataframe\">\n",
       "  <thead>\n",
       "    <tr style=\"text-align: right;\">\n",
       "      <th></th>\n",
       "      <th>Order ID</th>\n",
       "      <th>Product</th>\n",
       "      <th>Quantity Ordered</th>\n",
       "      <th>Price Each</th>\n",
       "      <th>Order Date</th>\n",
       "      <th>Purchase Address</th>\n",
       "    </tr>\n",
       "  </thead>\n",
       "  <tbody>\n",
       "    <tr>\n",
       "      <th>0</th>\n",
       "      <td>176558</td>\n",
       "      <td>USB-C Charging Cable</td>\n",
       "      <td>2</td>\n",
       "      <td>11.95</td>\n",
       "      <td>04/19/19 08:46</td>\n",
       "      <td>917 1st St, Dallas, TX 75001</td>\n",
       "    </tr>\n",
       "    <tr>\n",
       "      <th>1</th>\n",
       "      <td>NaN</td>\n",
       "      <td>NaN</td>\n",
       "      <td>NaN</td>\n",
       "      <td>NaN</td>\n",
       "      <td>NaN</td>\n",
       "      <td>NaN</td>\n",
       "    </tr>\n",
       "    <tr>\n",
       "      <th>2</th>\n",
       "      <td>176559</td>\n",
       "      <td>Bose SoundSport Headphones</td>\n",
       "      <td>1</td>\n",
       "      <td>99.99</td>\n",
       "      <td>04/07/19 22:30</td>\n",
       "      <td>682 Chestnut St, Boston, MA 02215</td>\n",
       "    </tr>\n",
       "    <tr>\n",
       "      <th>3</th>\n",
       "      <td>176560</td>\n",
       "      <td>Google Phone</td>\n",
       "      <td>1</td>\n",
       "      <td>600</td>\n",
       "      <td>04/12/19 14:38</td>\n",
       "      <td>669 Spruce St, Los Angeles, CA 90001</td>\n",
       "    </tr>\n",
       "    <tr>\n",
       "      <th>4</th>\n",
       "      <td>176560</td>\n",
       "      <td>Wired Headphones</td>\n",
       "      <td>1</td>\n",
       "      <td>11.99</td>\n",
       "      <td>04/12/19 14:38</td>\n",
       "      <td>669 Spruce St, Los Angeles, CA 90001</td>\n",
       "    </tr>\n",
       "  </tbody>\n",
       "</table>\n",
       "</div>"
      ],
      "text/plain": [
       "  Order ID                     Product Quantity Ordered Price Each  \\\n",
       "0   176558        USB-C Charging Cable                2      11.95   \n",
       "1      NaN                         NaN              NaN        NaN   \n",
       "2   176559  Bose SoundSport Headphones                1      99.99   \n",
       "3   176560                Google Phone                1        600   \n",
       "4   176560            Wired Headphones                1      11.99   \n",
       "\n",
       "       Order Date                      Purchase Address  \n",
       "0  04/19/19 08:46          917 1st St, Dallas, TX 75001  \n",
       "1             NaN                                   NaN  \n",
       "2  04/07/19 22:30     682 Chestnut St, Boston, MA 02215  \n",
       "3  04/12/19 14:38  669 Spruce St, Los Angeles, CA 90001  \n",
       "4  04/12/19 14:38  669 Spruce St, Los Angeles, CA 90001  "
      ]
     },
     "execution_count": 111,
     "metadata": {},
     "output_type": "execute_result"
    }
   ],
   "source": [
    "df.head(5)"
   ]
  },
  {
   "cell_type": "code",
   "execution_count": 112,
   "id": "4b4c20a7-e623-4498-a1b8-1a86533a65c9",
   "metadata": {},
   "outputs": [
    {
     "data": {
      "text/plain": [
       "Order ID            object\n",
       "Product             object\n",
       "Quantity Ordered    object\n",
       "Price Each          object\n",
       "Order Date          object\n",
       "Purchase Address    object\n",
       "dtype: object"
      ]
     },
     "execution_count": 112,
     "metadata": {},
     "output_type": "execute_result"
    }
   ],
   "source": [
    "df.dtypes"
   ]
  },
  {
   "cell_type": "code",
   "execution_count": 113,
   "id": "deaa0566-9dcc-4193-9865-1de17541efc8",
   "metadata": {},
   "outputs": [],
   "source": [
    "#remove NA & invalid rows : \n",
    "df.dropna(how=\"any\",inplace=True)\n",
    "df=df[~(df['Order Date'].str.slice(0,2)=='Or')]"
   ]
  },
  {
   "cell_type": "code",
   "execution_count": 114,
   "id": "95870708-6d26-4cb8-8e8a-03ddcc0340ab",
   "metadata": {},
   "outputs": [],
   "source": [
    "#format and create variables : \n",
    "df['Order Date']=pd.to_datetime(df['Order Date'])\n",
    "df['Order Month']=df['Order Date'].dt.month\n",
    "df['Order Year']=df['Order Date'].dt.year"
   ]
  },
  {
   "cell_type": "code",
   "execution_count": 156,
   "id": "e3ae415c-1eb2-4bd5-b7a3-2886f27d517c",
   "metadata": {},
   "outputs": [],
   "source": [
    "df['Price Each']=df['Price Each'].astype(float)\n",
    "df['Quantity Ordered']=df['Quantity Ordered'].astype(int)\n",
    "df['Order month_year'] = pd.to_datetime(df['Order Date']).dt.to_period('M')\n"
   ]
  },
  {
   "cell_type": "code",
   "execution_count": 157,
   "id": "dfecff69-b742-430a-87fc-351a1d06e807",
   "metadata": {},
   "outputs": [],
   "source": [
    "#answer the question best month in sales :\n",
    "df['Total Price']=df['Quantity Ordered']*df['Price Each']\n",
    "df['Total Price']\n",
    "output1=df.groupby(['Order month_year'])['Total Price'].sum()"
   ]
  },
  {
   "cell_type": "code",
   "execution_count": 158,
   "id": "282de39d-6a66-4c58-9afc-2b584306a573",
   "metadata": {},
   "outputs": [
    {
     "data": {
      "text/plain": [
       "Order month_year\n",
       "2019-12    4613443.34\n",
       "2019-10    3736726.88\n",
       "2019-04    3390670.24\n",
       "2019-11    3199603.20\n",
       "2019-05    3152606.75\n",
       "2019-03    2807100.38\n",
       "2019-07    2647775.76\n",
       "2019-06    2577802.26\n",
       "2019-08    2244467.88\n",
       "2019-02    2202022.42\n",
       "2019-09    2097560.13\n",
       "2019-01    1813586.44\n",
       "2020-01       8670.29\n",
       "Freq: M, Name: Total Price, dtype: float64"
      ]
     },
     "execution_count": 158,
     "metadata": {},
     "output_type": "execute_result"
    }
   ],
   "source": [
    "output1.sort_values(ascending=False)"
   ]
  },
  {
   "cell_type": "markdown",
   "id": "eb59468a-5f00-48ce-8d36-1898811c3843",
   "metadata": {},
   "source": [
    "## Visualize the result in bar chart "
   ]
  },
  {
   "cell_type": "code",
   "execution_count": 161,
   "id": "e13d5e35-c031-4930-b4b2-5c7abf57a987",
   "metadata": {},
   "outputs": [],
   "source": [
    "%matplotlib inline"
   ]
  },
  {
   "cell_type": "code",
   "execution_count": 164,
   "id": "71fdb943-de83-494b-9be5-4fe90e4d7aa2",
   "metadata": {},
   "outputs": [
    {
     "data": {
      "text/plain": [
       "<matplotlib.axes._subplots.AxesSubplot at 0x7fec7e3ea990>"
      ]
     },
     "execution_count": 164,
     "metadata": {},
     "output_type": "execute_result"
    },
    {
     "data": {
      "image/png": "[encoded data removed]",
      "text/plain": [
       "<Figure size 432x288 with 1 Axes>"
      ]
     },
     "metadata": {
      "needs_background": "light"
     },
     "output_type": "display_data"
    }
   ],
   "source": [
    "output1.sort_values(ascending=False).plot(kind='bar')"
   ]
  },
  {
   "cell_type": "markdown",
   "id": "4d8b068f-2652-43ef-8ff5-92f4bc4c2fd5",
   "metadata": {},
   "source": [
    "## What city has highest number of sales "
   ]
  },
  {
   "cell_type": "code",
   "execution_count": 165,
   "id": "2ec097d8-b5c2-4698-8bc3-657334ba4baa",
   "metadata": {},
   "outputs": [
    {
     "data": {
      "text/html": [
       "<div>\n",
       "<style scoped>\n",
       "    .dataframe tbody tr th:only-of-type {\n",
       "        vertical-align: middle;\n",
       "    }\n",
       "\n",
       "    .dataframe tbody tr th {\n",
       "        vertical-align: top;\n",
       "    }\n",
       "\n",
       "    .dataframe thead th {\n",
       "        text-align: right;\n",
       "    }\n",
       "</style>\n",
       "<table border=\"1\" class=\"dataframe\">\n",
       "  <thead>\n",
       "    <tr style=\"text-align: right;\">\n",
       "      <th></th>\n",
       "      <th>Order ID</th>\n",
       "      <th>Product</th>\n",
       "      <th>Quantity Ordered</th>\n",
       "      <th>Price Each</th>\n",
       "      <th>Order Date</th>\n",
       "      <th>Purchase Address</th>\n",
       "      <th>Order Month</th>\n",
       "      <th>Order Year</th>\n",
       "      <th>Total Price</th>\n",
       "      <th>Order month_year</th>\n",
       "    </tr>\n",
       "  </thead>\n",
       "  <tbody>\n",
       "    <tr>\n",
       "      <th>0</th>\n",
       "      <td>176558</td>\n",
       "      <td>USB-C Charging Cable</td>\n",
       "      <td>2</td>\n",
       "      <td>11.95</td>\n",
       "      <td>2019-04-19 08:46:00</td>\n",
       "      <td>917 1st St, Dallas, TX 75001</td>\n",
       "      <td>4</td>\n",
       "      <td>2019</td>\n",
       "      <td>23.90</td>\n",
       "      <td>2019-04</td>\n",
       "    </tr>\n",
       "    <tr>\n",
       "      <th>2</th>\n",
       "      <td>176559</td>\n",
       "      <td>Bose SoundSport Headphones</td>\n",
       "      <td>1</td>\n",
       "      <td>99.99</td>\n",
       "      <td>2019-04-07 22:30:00</td>\n",
       "      <td>682 Chestnut St, Boston, MA 02215</td>\n",
       "      <td>4</td>\n",
       "      <td>2019</td>\n",
       "      <td>99.99</td>\n",
       "      <td>2019-04</td>\n",
       "    </tr>\n",
       "  </tbody>\n",
       "</table>\n",
       "</div>"
      ],
      "text/plain": [
       "  Order ID                     Product  Quantity Ordered  Price Each  \\\n",
       "0   176558        USB-C Charging Cable                 2       11.95   \n",
       "2   176559  Bose SoundSport Headphones                 1       99.99   \n",
       "\n",
       "           Order Date                   Purchase Address  Order Month  \\\n",
       "0 2019-04-19 08:46:00       917 1st St, Dallas, TX 75001            4   \n",
       "2 2019-04-07 22:30:00  682 Chestnut St, Boston, MA 02215            4   \n",
       "\n",
       "   Order Year  Total Price Order month_year  \n",
       "0        2019        23.90          2019-04  \n",
       "2        2019        99.99          2019-04  "
      ]
     },
     "execution_count": 165,
     "metadata": {},
     "output_type": "execute_result"
    }
   ],
   "source": [
    "df.head(2)"
   ]
  },
  {
   "cell_type": "code",
   "execution_count": 178,
   "id": "166680fe-313d-4176-a8b8-b2574f791247",
   "metadata": {},
   "outputs": [],
   "source": [
    "df['City']=df['Purchase Address'].str.split(\",\").str.get(-2)\n",
    "df['State']=df['Purchase Address'].str.split(\",\").str.get(-1).str.split(\" \").str.get(-2)"
   ]
  },
  {
   "cell_type": "code",
   "execution_count": 179,
   "id": "f12fff41-851e-4fea-ae96-899c9e84b691",
   "metadata": {},
   "outputs": [],
   "source": [
    "df['City_State']=df['City']+df['State']"
   ]
  },
  {
   "cell_type": "code",
   "execution_count": 182,
   "id": "34c3d8c3-b91a-4d7e-ac76-2f27d3247ac4",
   "metadata": {},
   "outputs": [
    {
     "data": {
      "text/plain": [
       "City_State\n",
       " AtlantaGA          16602\n",
       " AustinTX           11153\n",
       " BostonMA           22528\n",
       " DallasTX           16730\n",
       " Los AngelesCA      33289\n",
       " New York CityNY    27932\n",
       " PortlandME          2750\n",
       " PortlandOR         11303\n",
       " San FranciscoCA    50239\n",
       " SeattleWA          16553\n",
       "Name: Quantity Ordered, dtype: int64"
      ]
     },
     "execution_count": 182,
     "metadata": {},
     "output_type": "execute_result"
    }
   ],
   "source": [
    "df.groupby('City_State')['Quantity Ordered'].sum()"
   ]
  },
  {
   "cell_type": "code",
   "execution_count": 183,
   "id": "1ab0caed-f808-43ff-a1fc-438025e1fba8",
   "metadata": {},
   "outputs": [
    {
     "data": {
      "text/plain": [
       "<matplotlib.axes._subplots.AxesSubplot at 0x7fec75e197d0>"
      ]
     },
     "execution_count": 183,
     "metadata": {},
     "output_type": "execute_result"
    },
    {
     "data": {
      "image/png": "[encoded data removed]",
      "text/plain": [
       "<Figure size 432x288 with 1 Axes>"
      ]
     },
     "metadata": {
      "needs_background": "light"
     },
     "output_type": "display_data"
    }
   ],
   "source": [
    "df.groupby('City_State')['Quantity Ordered'].sum().sort_values(ascending=False).plot(kind='bar')"
   ]
  },
  {
   "cell_type": "markdown",
   "id": "dc45d12e-16de-4356-8a30-d9ebf2c48e60",
   "metadata": {},
   "source": [
    "## What time should we display advs to maximize likelihood of customer's buying the product ?"
   ]
  },
  {
   "cell_type": "code",
   "execution_count": 184,
   "id": "d172b472-7d08-41b3-8e7a-5ba98c939e16",
   "metadata": {},
   "outputs": [
    {
     "data": {
      "text/html": [
       "<div>\n",
       "<style scoped>\n",
       "    .dataframe tbody tr th:only-of-type {\n",
       "        vertical-align: middle;\n",
       "    }\n",
       "\n",
       "    .dataframe tbody tr th {\n",
       "        vertical-align: top;\n",
       "    }\n",
       "\n",
       "    .dataframe thead th {\n",
       "        text-align: right;\n",
       "    }\n",
       "</style>\n",
       "<table border=\"1\" class=\"dataframe\">\n",
       "  <thead>\n",
       "    <tr style=\"text-align: right;\">\n",
       "      <th></th>\n",
       "      <th>Order ID</th>\n",
       "      <th>Product</th>\n",
       "      <th>Quantity Ordered</th>\n",
       "      <th>Price Each</th>\n",
       "      <th>Order Date</th>\n",
       "      <th>Purchase Address</th>\n",
       "      <th>Order Month</th>\n",
       "      <th>Order Year</th>\n",
       "      <th>Total Price</th>\n",
       "      <th>Order month_year</th>\n",
       "      <th>City</th>\n",
       "      <th>State</th>\n",
       "      <th>City_State</th>\n",
       "    </tr>\n",
       "  </thead>\n",
       "  <tbody>\n",
       "    <tr>\n",
       "      <th>0</th>\n",
       "      <td>176558</td>\n",
       "      <td>USB-C Charging Cable</td>\n",
       "      <td>2</td>\n",
       "      <td>11.95</td>\n",
       "      <td>2019-04-19 08:46:00</td>\n",
       "      <td>917 1st St, Dallas, TX 75001</td>\n",
       "      <td>4</td>\n",
       "      <td>2019</td>\n",
       "      <td>23.90</td>\n",
       "      <td>2019-04</td>\n",
       "      <td>Dallas</td>\n",
       "      <td>TX</td>\n",
       "      <td>DallasTX</td>\n",
       "    </tr>\n",
       "    <tr>\n",
       "      <th>2</th>\n",
       "      <td>176559</td>\n",
       "      <td>Bose SoundSport Headphones</td>\n",
       "      <td>1</td>\n",
       "      <td>99.99</td>\n",
       "      <td>2019-04-07 22:30:00</td>\n",
       "      <td>682 Chestnut St, Boston, MA 02215</td>\n",
       "      <td>4</td>\n",
       "      <td>2019</td>\n",
       "      <td>99.99</td>\n",
       "      <td>2019-04</td>\n",
       "      <td>Boston</td>\n",
       "      <td>MA</td>\n",
       "      <td>BostonMA</td>\n",
       "    </tr>\n",
       "    <tr>\n",
       "      <th>3</th>\n",
       "      <td>176560</td>\n",
       "      <td>Google Phone</td>\n",
       "      <td>1</td>\n",
       "      <td>600.00</td>\n",
       "      <td>2019-04-12 14:38:00</td>\n",
       "      <td>669 Spruce St, Los Angeles, CA 90001</td>\n",
       "      <td>4</td>\n",
       "      <td>2019</td>\n",
       "      <td>600.00</td>\n",
       "      <td>2019-04</td>\n",
       "      <td>Los Angeles</td>\n",
       "      <td>CA</td>\n",
       "      <td>Los AngelesCA</td>\n",
       "    </tr>\n",
       "    <tr>\n",
       "      <th>4</th>\n",
       "      <td>176560</td>\n",
       "      <td>Wired Headphones</td>\n",
       "      <td>1</td>\n",
       "      <td>11.99</td>\n",
       "      <td>2019-04-12 14:38:00</td>\n",
       "      <td>669 Spruce St, Los Angeles, CA 90001</td>\n",
       "      <td>4</td>\n",
       "      <td>2019</td>\n",
       "      <td>11.99</td>\n",
       "      <td>2019-04</td>\n",
       "      <td>Los Angeles</td>\n",
       "      <td>CA</td>\n",
       "      <td>Los AngelesCA</td>\n",
       "    </tr>\n",
       "  </tbody>\n",
       "</table>\n",
       "</div>"
      ],
      "text/plain": [
       "  Order ID                     Product  Quantity Ordered  Price Each  \\\n",
       "0   176558        USB-C Charging Cable                 2       11.95   \n",
       "2   176559  Bose SoundSport Headphones                 1       99.99   \n",
       "3   176560                Google Phone                 1      600.00   \n",
       "4   176560            Wired Headphones                 1       11.99   \n",
       "\n",
       "           Order Date                      Purchase Address  Order Month  \\\n",
       "0 2019-04-19 08:46:00          917 1st St, Dallas, TX 75001            4   \n",
       "2 2019-04-07 22:30:00     682 Chestnut St, Boston, MA 02215            4   \n",
       "3 2019-04-12 14:38:00  669 Spruce St, Los Angeles, CA 90001            4   \n",
       "4 2019-04-12 14:38:00  669 Spruce St, Los Angeles, CA 90001            4   \n",
       "\n",
       "   Order Year  Total Price Order month_year          City State  \\\n",
       "0        2019        23.90          2019-04        Dallas    TX   \n",
       "2        2019        99.99          2019-04        Boston    MA   \n",
       "3        2019       600.00          2019-04   Los Angeles    CA   \n",
       "4        2019        11.99          2019-04   Los Angeles    CA   \n",
       "\n",
       "       City_State  \n",
       "0        DallasTX  \n",
       "2        BostonMA  \n",
       "3   Los AngelesCA  \n",
       "4   Los AngelesCA  "
      ]
     },
     "execution_count": 184,
     "metadata": {},
     "output_type": "execute_result"
    }
   ],
   "source": [
    "df.head(4)"
   ]
  },
  {
   "cell_type": "code",
   "execution_count": 199,
   "id": "b9f01623-c013-4fbf-8248-0785eb433626",
   "metadata": {},
   "outputs": [],
   "source": [
    "df['Order Hour']=df['Order Date'].dt.round(\"H\").dt.hour"
   ]
  },
  {
   "cell_type": "code",
   "execution_count": 203,
   "id": "e01226ea-b029-4636-b60a-567728747d0c",
   "metadata": {},
   "outputs": [
    {
     "data": {
      "text/html": [
       "<div>\n",
       "<style scoped>\n",
       "    .dataframe tbody tr th:only-of-type {\n",
       "        vertical-align: middle;\n",
       "    }\n",
       "\n",
       "    .dataframe tbody tr th {\n",
       "        vertical-align: top;\n",
       "    }\n",
       "\n",
       "    .dataframe thead th {\n",
       "        text-align: right;\n",
       "    }\n",
       "</style>\n",
       "<table border=\"1\" class=\"dataframe\">\n",
       "  <thead>\n",
       "    <tr style=\"text-align: right;\">\n",
       "      <th></th>\n",
       "      <th>Order Hour</th>\n",
       "      <th>Order Date</th>\n",
       "    </tr>\n",
       "  </thead>\n",
       "  <tbody>\n",
       "    <tr>\n",
       "      <th>0</th>\n",
       "      <td>9</td>\n",
       "      <td>2019-04-19 08:46:00</td>\n",
       "    </tr>\n",
       "    <tr>\n",
       "      <th>2</th>\n",
       "      <td>22</td>\n",
       "      <td>2019-04-07 22:30:00</td>\n",
       "    </tr>\n",
       "    <tr>\n",
       "      <th>3</th>\n",
       "      <td>15</td>\n",
       "      <td>2019-04-12 14:38:00</td>\n",
       "    </tr>\n",
       "    <tr>\n",
       "      <th>4</th>\n",
       "      <td>15</td>\n",
       "      <td>2019-04-12 14:38:00</td>\n",
       "    </tr>\n",
       "    <tr>\n",
       "      <th>5</th>\n",
       "      <td>9</td>\n",
       "      <td>2019-04-30 09:27:00</td>\n",
       "    </tr>\n",
       "    <tr>\n",
       "      <th>...</th>\n",
       "      <td>...</td>\n",
       "      <td>...</td>\n",
       "    </tr>\n",
       "    <tr>\n",
       "      <th>186845</th>\n",
       "      <td>21</td>\n",
       "      <td>2019-09-17 20:56:00</td>\n",
       "    </tr>\n",
       "    <tr>\n",
       "      <th>186846</th>\n",
       "      <td>16</td>\n",
       "      <td>2019-09-01 16:00:00</td>\n",
       "    </tr>\n",
       "    <tr>\n",
       "      <th>186847</th>\n",
       "      <td>8</td>\n",
       "      <td>2019-09-23 07:39:00</td>\n",
       "    </tr>\n",
       "    <tr>\n",
       "      <th>186848</th>\n",
       "      <td>18</td>\n",
       "      <td>2019-09-19 17:30:00</td>\n",
       "    </tr>\n",
       "    <tr>\n",
       "      <th>186849</th>\n",
       "      <td>0</td>\n",
       "      <td>2019-09-30 00:18:00</td>\n",
       "    </tr>\n",
       "  </tbody>\n",
       "</table>\n",
       "<p>185950 rows × 2 columns</p>\n",
       "</div>"
      ],
      "text/plain": [
       "        Order Hour          Order Date\n",
       "0                9 2019-04-19 08:46:00\n",
       "2               22 2019-04-07 22:30:00\n",
       "3               15 2019-04-12 14:38:00\n",
       "4               15 2019-04-12 14:38:00\n",
       "5                9 2019-04-30 09:27:00\n",
       "...            ...                 ...\n",
       "186845          21 2019-09-17 20:56:00\n",
       "186846          16 2019-09-01 16:00:00\n",
       "186847           8 2019-09-23 07:39:00\n",
       "186848          18 2019-09-19 17:30:00\n",
       "186849           0 2019-09-30 00:18:00\n",
       "\n",
       "[185950 rows x 2 columns]"
      ]
     },
     "execution_count": 203,
     "metadata": {},
     "output_type": "execute_result"
    }
   ],
   "source": [
    "df.loc[:,['Order Hour','Order Date']]"
   ]
  },
  {
   "cell_type": "code",
   "execution_count": 200,
   "id": "9d1c7aee-b51e-443b-bda6-cc833e8dff0b",
   "metadata": {},
   "outputs": [
    {
     "data": {
      "text/plain": [
       "<matplotlib.axes._subplots.AxesSubplot at 0x7fec7e498b90>"
      ]
     },
     "execution_count": 200,
     "metadata": {},
     "output_type": "execute_result"
    },
    {
     "data": {
      "image/png": "[encoded data removed]",
      "text/plain": [
       "<Figure size 432x288 with 1 Axes>"
      ]
     },
     "metadata": {
      "needs_background": "light"
     },
     "output_type": "display_data"
    }
   ],
   "source": [
    "#looking by total spent\n",
    "df.groupby('Order Hour')['Total Price'].sum().sort_values(ascending=False).plot(kind='bar')"
   ]
  },
  {
   "cell_type": "code",
   "execution_count": 201,
   "id": "aa0267e9-d807-4b0b-9e3f-beca2e54531a",
   "metadata": {},
   "outputs": [
    {
     "data": {
      "text/plain": [
       "<matplotlib.axes._subplots.AxesSubplot at 0x7fec825cb210>"
      ]
     },
     "execution_count": 201,
     "metadata": {},
     "output_type": "execute_result"
    },
    {
     "data": {
      "image/png": "[encoded data removed]",
      "text/plain": [
       "<Figure size 432x288 with 1 Axes>"
      ]
     },
     "metadata": {
      "needs_background": "light"
     },
     "output_type": "display_data"
    }
   ],
   "source": [
    "#looking by number of items placed : \n",
    "df.groupby('Order Hour')['Quantity Ordered'].sum().sort_values(ascending=False).plot(kind='bar')"
   ]
  },
  {
   "cell_type": "code",
   "execution_count": 202,
   "id": "8851c482-0a3b-4490-be09-dc565f2cb429",
   "metadata": {},
   "outputs": [
    {
     "data": {
      "text/plain": [
       "<matplotlib.axes._subplots.AxesSubplot at 0x7fec7e5f7910>"
      ]
     },
     "execution_count": 202,
     "metadata": {},
     "output_type": "execute_result"
    },
    {
     "data": {
      "image/png": "[encoded data removed]",
      "text/plain": [
       "<Figure size 432x288 with 1 Axes>"
      ]
     },
     "metadata": {
      "needs_background": "light"
     },
     "output_type": "display_data"
    }
   ],
   "source": [
    "#looking by number of unique order id's\n",
    "df.groupby('Order Hour')['Order ID'].nunique().sort_values(ascending=False).plot(kind='bar')"
   ]
  },
  {
   "cell_type": "markdown",
   "id": "c0febc90-99ce-403a-85e4-9dcff5d9650f",
   "metadata": {},
   "source": [
    "## Which products are sold together "
   ]
  },
  {
   "cell_type": "code",
   "execution_count": 204,
   "id": "4e0f3a88-e204-455b-ae53-3bf4dda96b0d",
   "metadata": {},
   "outputs": [
    {
     "data": {
      "text/html": [
       "<div>\n",
       "<style scoped>\n",
       "    .dataframe tbody tr th:only-of-type {\n",
       "        vertical-align: middle;\n",
       "    }\n",
       "\n",
       "    .dataframe tbody tr th {\n",
       "        vertical-align: top;\n",
       "    }\n",
       "\n",
       "    .dataframe thead th {\n",
       "        text-align: right;\n",
       "    }\n",
       "</style>\n",
       "<table border=\"1\" class=\"dataframe\">\n",
       "  <thead>\n",
       "    <tr style=\"text-align: right;\">\n",
       "      <th></th>\n",
       "      <th>Order ID</th>\n",
       "      <th>Product</th>\n",
       "      <th>Quantity Ordered</th>\n",
       "      <th>Price Each</th>\n",
       "      <th>Order Date</th>\n",
       "      <th>Purchase Address</th>\n",
       "      <th>Order Month</th>\n",
       "      <th>Order Year</th>\n",
       "      <th>Total Price</th>\n",
       "      <th>Order month_year</th>\n",
       "      <th>City</th>\n",
       "      <th>State</th>\n",
       "      <th>City_State</th>\n",
       "      <th>Order Hour</th>\n",
       "    </tr>\n",
       "  </thead>\n",
       "  <tbody>\n",
       "    <tr>\n",
       "      <th>0</th>\n",
       "      <td>176558</td>\n",
       "      <td>USB-C Charging Cable</td>\n",
       "      <td>2</td>\n",
       "      <td>11.95</td>\n",
       "      <td>2019-04-19 08:46:00</td>\n",
       "      <td>917 1st St, Dallas, TX 75001</td>\n",
       "      <td>4</td>\n",
       "      <td>2019</td>\n",
       "      <td>23.90</td>\n",
       "      <td>2019-04</td>\n",
       "      <td>Dallas</td>\n",
       "      <td>TX</td>\n",
       "      <td>DallasTX</td>\n",
       "      <td>9</td>\n",
       "    </tr>\n",
       "    <tr>\n",
       "      <th>2</th>\n",
       "      <td>176559</td>\n",
       "      <td>Bose SoundSport Headphones</td>\n",
       "      <td>1</td>\n",
       "      <td>99.99</td>\n",
       "      <td>2019-04-07 22:30:00</td>\n",
       "      <td>682 Chestnut St, Boston, MA 02215</td>\n",
       "      <td>4</td>\n",
       "      <td>2019</td>\n",
       "      <td>99.99</td>\n",
       "      <td>2019-04</td>\n",
       "      <td>Boston</td>\n",
       "      <td>MA</td>\n",
       "      <td>BostonMA</td>\n",
       "      <td>22</td>\n",
       "    </tr>\n",
       "    <tr>\n",
       "      <th>3</th>\n",
       "      <td>176560</td>\n",
       "      <td>Google Phone</td>\n",
       "      <td>1</td>\n",
       "      <td>600.00</td>\n",
       "      <td>2019-04-12 14:38:00</td>\n",
       "      <td>669 Spruce St, Los Angeles, CA 90001</td>\n",
       "      <td>4</td>\n",
       "      <td>2019</td>\n",
       "      <td>600.00</td>\n",
       "      <td>2019-04</td>\n",
       "      <td>Los Angeles</td>\n",
       "      <td>CA</td>\n",
       "      <td>Los AngelesCA</td>\n",
       "      <td>15</td>\n",
       "    </tr>\n",
       "    <tr>\n",
       "      <th>4</th>\n",
       "      <td>176560</td>\n",
       "      <td>Wired Headphones</td>\n",
       "      <td>1</td>\n",
       "      <td>11.99</td>\n",
       "      <td>2019-04-12 14:38:00</td>\n",
       "      <td>669 Spruce St, Los Angeles, CA 90001</td>\n",
       "      <td>4</td>\n",
       "      <td>2019</td>\n",
       "      <td>11.99</td>\n",
       "      <td>2019-04</td>\n",
       "      <td>Los Angeles</td>\n",
       "      <td>CA</td>\n",
       "      <td>Los AngelesCA</td>\n",
       "      <td>15</td>\n",
       "    </tr>\n",
       "    <tr>\n",
       "      <th>5</th>\n",
       "      <td>176561</td>\n",
       "      <td>Wired Headphones</td>\n",
       "      <td>1</td>\n",
       "      <td>11.99</td>\n",
       "      <td>2019-04-30 09:27:00</td>\n",
       "      <td>333 8th St, Los Angeles, CA 90001</td>\n",
       "      <td>4</td>\n",
       "      <td>2019</td>\n",
       "      <td>11.99</td>\n",
       "      <td>2019-04</td>\n",
       "      <td>Los Angeles</td>\n",
       "      <td>CA</td>\n",
       "      <td>Los AngelesCA</td>\n",
       "      <td>9</td>\n",
       "    </tr>\n",
       "  </tbody>\n",
       "</table>\n",
       "</div>"
      ],
      "text/plain": [
       "  Order ID                     Product  Quantity Ordered  Price Each  \\\n",
       "0   176558        USB-C Charging Cable                 2       11.95   \n",
       "2   176559  Bose SoundSport Headphones                 1       99.99   \n",
       "3   176560                Google Phone                 1      600.00   \n",
       "4   176560            Wired Headphones                 1       11.99   \n",
       "5   176561            Wired Headphones                 1       11.99   \n",
       "\n",
       "           Order Date                      Purchase Address  Order Month  \\\n",
       "0 2019-04-19 08:46:00          917 1st St, Dallas, TX 75001            4   \n",
       "2 2019-04-07 22:30:00     682 Chestnut St, Boston, MA 02215            4   \n",
       "3 2019-04-12 14:38:00  669 Spruce St, Los Angeles, CA 90001            4   \n",
       "4 2019-04-12 14:38:00  669 Spruce St, Los Angeles, CA 90001            4   \n",
       "5 2019-04-30 09:27:00     333 8th St, Los Angeles, CA 90001            4   \n",
       "\n",
       "   Order Year  Total Price Order month_year          City State  \\\n",
       "0        2019        23.90          2019-04        Dallas    TX   \n",
       "2        2019        99.99          2019-04        Boston    MA   \n",
       "3        2019       600.00          2019-04   Los Angeles    CA   \n",
       "4        2019        11.99          2019-04   Los Angeles    CA   \n",
       "5        2019        11.99          2019-04   Los Angeles    CA   \n",
       "\n",
       "       City_State  Order Hour  \n",
       "0        DallasTX           9  \n",
       "2        BostonMA          22  \n",
       "3   Los AngelesCA          15  \n",
       "4   Los AngelesCA          15  \n",
       "5   Los AngelesCA           9  "
      ]
     },
     "execution_count": 204,
     "metadata": {},
     "output_type": "execute_result"
    }
   ],
   "source": [
    "df.head()"
   ]
  },
  {
   "cell_type": "code",
   "execution_count": 207,
   "id": "45c7b5fa-cfab-4cc9-9814-6edd8f845654",
   "metadata": {},
   "outputs": [
    {
     "data": {
      "text/plain": [
       "178437"
      ]
     },
     "execution_count": 207,
     "metadata": {},
     "output_type": "execute_result"
    }
   ],
   "source": [
    "df['Order ID'].nunique()"
   ]
  },
  {
   "cell_type": "code",
   "execution_count": null,
   "id": "9030636d-ad03-4f10-9b20-dfdee1cc4416",
   "metadata": {},
   "outputs": [],
   "source": [
    "test=df.groupby(['Order ID'], as_index = False).agg({'Product': ','.join,'Quantity Ordered':sum})"
   ]
  },
  {
   "cell_type": "code",
   "execution_count": 221,
   "id": "81188de9-ad3f-4a1c-a794-ad77082f4e2c",
   "metadata": {},
   "outputs": [
    {
     "data": {
      "text/html": [
       "<div>\n",
       "<style scoped>\n",
       "    .dataframe tbody tr th:only-of-type {\n",
       "        vertical-align: middle;\n",
       "    }\n",
       "\n",
       "    .dataframe tbody tr th {\n",
       "        vertical-align: top;\n",
       "    }\n",
       "\n",
       "    .dataframe thead th {\n",
       "        text-align: right;\n",
       "    }\n",
       "</style>\n",
       "<table border=\"1\" class=\"dataframe\">\n",
       "  <thead>\n",
       "    <tr style=\"text-align: right;\">\n",
       "      <th></th>\n",
       "      <th>Order ID</th>\n",
       "      <th>Product</th>\n",
       "      <th>Quantity Ordered</th>\n",
       "    </tr>\n",
       "  </thead>\n",
       "  <tbody>\n",
       "    <tr>\n",
       "      <th>35326</th>\n",
       "      <td>176560</td>\n",
       "      <td>Google Phone,Wired Headphones</td>\n",
       "      <td>2</td>\n",
       "    </tr>\n",
       "  </tbody>\n",
       "</table>\n",
       "</div>"
      ],
      "text/plain": [
       "      Order ID                        Product  Quantity Ordered\n",
       "35326   176560  Google Phone,Wired Headphones                 2"
      ]
     },
     "execution_count": 221,
     "metadata": {},
     "output_type": "execute_result"
    }
   ],
   "source": [
    "test[test['Order ID']=='176560']"
   ]
  },
  {
   "cell_type": "code",
   "execution_count": 228,
   "id": "9c574189-9a0c-4748-8447-84a098d6c726",
   "metadata": {},
   "outputs": [],
   "source": [
    "#identify number of , in the products : \n",
    "test_selected=test[test['Product'].str.contains(\",\")]\n",
    "\n"
   ]
  },
  {
   "cell_type": "code",
   "execution_count": 229,
   "id": "7790fe36-2097-455a-814e-a219bc6034c7",
   "metadata": {},
   "outputs": [
    {
     "data": {
      "text/plain": [
       "Product\n",
       "iPhone,Lightning Charging Cable         1822\n",
       "Google Phone,USB-C Charging Cable       1785\n",
       "iPhone,Wired Headphones                  752\n",
       "Vareebadd Phone,USB-C Charging Cable     648\n",
       "Google Phone,Wired Headphones            637\n",
       "                                        ... \n",
       "LG Dryer,Google Phone                      2\n",
       "LG Dryer,Flatscreen TV                     2\n",
       "LG Dryer,27in FHD Monitor                  2\n",
       "LG Dryer,27in 4K Gaming Monitor            2\n",
       "iPhone,iPhone                              2\n",
       "Name: Quantity Ordered, Length: 366, dtype: int64"
      ]
     },
     "execution_count": 229,
     "metadata": {},
     "output_type": "execute_result"
    }
   ],
   "source": [
    "test_selected.groupby('Product')['Quantity Ordered'].sum().sort_values(ascending=False)"
   ]
  },
  {
   "cell_type": "markdown",
   "id": "7f3d0d85-66b3-4174-be4e-6c8618889526",
   "metadata": {},
   "source": [
    "## What products sold the most , why it sold the most ?"
   ]
  },
  {
   "cell_type": "code",
   "execution_count": 230,
   "id": "f6d1ca77-d163-4148-8891-9c54aecf2036",
   "metadata": {},
   "outputs": [
    {
     "data": {
      "text/html": [
       "<div>\n",
       "<style scoped>\n",
       "    .dataframe tbody tr th:only-of-type {\n",
       "        vertical-align: middle;\n",
       "    }\n",
       "\n",
       "    .dataframe tbody tr th {\n",
       "        vertical-align: top;\n",
       "    }\n",
       "\n",
       "    .dataframe thead th {\n",
       "        text-align: right;\n",
       "    }\n",
       "</style>\n",
       "<table border=\"1\" class=\"dataframe\">\n",
       "  <thead>\n",
       "    <tr style=\"text-align: right;\">\n",
       "      <th></th>\n",
       "      <th>Order ID</th>\n",
       "      <th>Product</th>\n",
       "      <th>Quantity Ordered</th>\n",
       "      <th>Price Each</th>\n",
       "      <th>Order Date</th>\n",
       "      <th>Purchase Address</th>\n",
       "      <th>Order Month</th>\n",
       "      <th>Order Year</th>\n",
       "      <th>Total Price</th>\n",
       "      <th>Order month_year</th>\n",
       "      <th>City</th>\n",
       "      <th>State</th>\n",
       "      <th>City_State</th>\n",
       "      <th>Order Hour</th>\n",
       "    </tr>\n",
       "  </thead>\n",
       "  <tbody>\n",
       "    <tr>\n",
       "      <th>0</th>\n",
       "      <td>176558</td>\n",
       "      <td>USB-C Charging Cable</td>\n",
       "      <td>2</td>\n",
       "      <td>11.95</td>\n",
       "      <td>2019-04-19 08:46:00</td>\n",
       "      <td>917 1st St, Dallas, TX 75001</td>\n",
       "      <td>4</td>\n",
       "      <td>2019</td>\n",
       "      <td>23.90</td>\n",
       "      <td>2019-04</td>\n",
       "      <td>Dallas</td>\n",
       "      <td>TX</td>\n",
       "      <td>DallasTX</td>\n",
       "      <td>9</td>\n",
       "    </tr>\n",
       "    <tr>\n",
       "      <th>2</th>\n",
       "      <td>176559</td>\n",
       "      <td>Bose SoundSport Headphones</td>\n",
       "      <td>1</td>\n",
       "      <td>99.99</td>\n",
       "      <td>2019-04-07 22:30:00</td>\n",
       "      <td>682 Chestnut St, Boston, MA 02215</td>\n",
       "      <td>4</td>\n",
       "      <td>2019</td>\n",
       "      <td>99.99</td>\n",
       "      <td>2019-04</td>\n",
       "      <td>Boston</td>\n",
       "      <td>MA</td>\n",
       "      <td>BostonMA</td>\n",
       "      <td>22</td>\n",
       "    </tr>\n",
       "    <tr>\n",
       "      <th>3</th>\n",
       "      <td>176560</td>\n",
       "      <td>Google Phone</td>\n",
       "      <td>1</td>\n",
       "      <td>600.00</td>\n",
       "      <td>2019-04-12 14:38:00</td>\n",
       "      <td>669 Spruce St, Los Angeles, CA 90001</td>\n",
       "      <td>4</td>\n",
       "      <td>2019</td>\n",
       "      <td>600.00</td>\n",
       "      <td>2019-04</td>\n",
       "      <td>Los Angeles</td>\n",
       "      <td>CA</td>\n",
       "      <td>Los AngelesCA</td>\n",
       "      <td>15</td>\n",
       "    </tr>\n",
       "    <tr>\n",
       "      <th>4</th>\n",
       "      <td>176560</td>\n",
       "      <td>Wired Headphones</td>\n",
       "      <td>1</td>\n",
       "      <td>11.99</td>\n",
       "      <td>2019-04-12 14:38:00</td>\n",
       "      <td>669 Spruce St, Los Angeles, CA 90001</td>\n",
       "      <td>4</td>\n",
       "      <td>2019</td>\n",
       "      <td>11.99</td>\n",
       "      <td>2019-04</td>\n",
       "      <td>Los Angeles</td>\n",
       "      <td>CA</td>\n",
       "      <td>Los AngelesCA</td>\n",
       "      <td>15</td>\n",
       "    </tr>\n",
       "    <tr>\n",
       "      <th>5</th>\n",
       "      <td>176561</td>\n",
       "      <td>Wired Headphones</td>\n",
       "      <td>1</td>\n",
       "      <td>11.99</td>\n",
       "      <td>2019-04-30 09:27:00</td>\n",
       "      <td>333 8th St, Los Angeles, CA 90001</td>\n",
       "      <td>4</td>\n",
       "      <td>2019</td>\n",
       "      <td>11.99</td>\n",
       "      <td>2019-04</td>\n",
       "      <td>Los Angeles</td>\n",
       "      <td>CA</td>\n",
       "      <td>Los AngelesCA</td>\n",
       "      <td>9</td>\n",
       "    </tr>\n",
       "  </tbody>\n",
       "</table>\n",
       "</div>"
      ],
      "text/plain": [
       "  Order ID                     Product  Quantity Ordered  Price Each  \\\n",
       "0   176558        USB-C Charging Cable                 2       11.95   \n",
       "2   176559  Bose SoundSport Headphones                 1       99.99   \n",
       "3   176560                Google Phone                 1      600.00   \n",
       "4   176560            Wired Headphones                 1       11.99   \n",
       "5   176561            Wired Headphones                 1       11.99   \n",
       "\n",
       "           Order Date                      Purchase Address  Order Month  \\\n",
       "0 2019-04-19 08:46:00          917 1st St, Dallas, TX 75001            4   \n",
       "2 2019-04-07 22:30:00     682 Chestnut St, Boston, MA 02215            4   \n",
       "3 2019-04-12 14:38:00  669 Spruce St, Los Angeles, CA 90001            4   \n",
       "4 2019-04-12 14:38:00  669 Spruce St, Los Angeles, CA 90001            4   \n",
       "5 2019-04-30 09:27:00     333 8th St, Los Angeles, CA 90001            4   \n",
       "\n",
       "   Order Year  Total Price Order month_year          City State  \\\n",
       "0        2019        23.90          2019-04        Dallas    TX   \n",
       "2        2019        99.99          2019-04        Boston    MA   \n",
       "3        2019       600.00          2019-04   Los Angeles    CA   \n",
       "4        2019        11.99          2019-04   Los Angeles    CA   \n",
       "5        2019        11.99          2019-04   Los Angeles    CA   \n",
       "\n",
       "       City_State  Order Hour  \n",
       "0        DallasTX           9  \n",
       "2        BostonMA          22  \n",
       "3   Los AngelesCA          15  \n",
       "4   Los AngelesCA          15  \n",
       "5   Los AngelesCA           9  "
      ]
     },
     "execution_count": 230,
     "metadata": {},
     "output_type": "execute_result"
    }
   ],
   "source": [
    "df.head()"
   ]
  },
  {
   "cell_type": "code",
   "execution_count": 233,
   "id": "01a3295f-79d2-4bda-840b-efe3d612b77d",
   "metadata": {},
   "outputs": [
    {
     "data": {
      "text/plain": [
       "Product\n",
       "AAA Batteries (4-pack)        31017\n",
       "AA Batteries (4-pack)         27635\n",
       "USB-C Charging Cable          23975\n",
       "Lightning Charging Cable      23217\n",
       "Wired Headphones              20557\n",
       "Apple Airpods Headphones      15661\n",
       "Bose SoundSport Headphones    13457\n",
       "27in FHD Monitor               7550\n",
       "iPhone                         6849\n",
       "27in 4K Gaming Monitor         6244\n",
       "34in Ultrawide Monitor         6199\n",
       "Google Phone                   5532\n",
       "Flatscreen TV                  4819\n",
       "Macbook Pro Laptop             4728\n",
       "ThinkPad Laptop                4130\n",
       "20in Monitor                   4129\n",
       "Vareebadd Phone                2068\n",
       "LG Washing Machine              666\n",
       "LG Dryer                        646\n",
       "Name: Quantity Ordered, dtype: int64"
      ]
     },
     "execution_count": 233,
     "metadata": {},
     "output_type": "execute_result"
    }
   ],
   "source": [
    "df.groupby('Product')['Quantity Ordered'].sum().sort_values(ascending=False)"
   ]
  },
  {
   "cell_type": "code",
   "execution_count": null,
   "id": "ca87ce1c-e9d3-478a-b9cf-d330045827b4",
   "metadata": {},
   "outputs": [],
   "source": []
  }
 ],
 "metadata": {
  "kernelspec": {
   "display_name": "Python 3",
   "language": "python",
   "name": "python3"
  },
  "language_info": {
   "codemirror_mode": {
    "name": "ipython",
    "version": 3
   },
   "file_extension": ".py",
   "mimetype": "text/x-python",
   "name": "python",
   "nbconvert_exporter": "python",
   "pygments_lexer": "ipython3",
   "version": "3.7.8"
  }
 },
 "nbformat": 4,
 "nbformat_minor": 5
}
